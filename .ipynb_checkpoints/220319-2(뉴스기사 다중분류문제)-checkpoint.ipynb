{
 "cells": [
  {
   "cell_type": "markdown",
   "id": "1f2a1656",
   "metadata": {},
   "source": [
    "# 1. 로이터 데이터셋\n",
    "* 46개의 토픽, 각 토픽당 훈련 세트에 최소 10개 포함\n",
    "* 훈련 샘플 : 8,982개, 테스트 샘플 : 2,246개"
   ]
  },
  {
   "cell_type": "code",
   "execution_count": 24,
   "id": "95a7852d",
   "metadata": {},
   "outputs": [],
   "source": [
    "from tensorflow.keras.datasets import reuters\n",
    "\n",
    "(train_data, train_labels), (test_data, test_labels) = reuters.load_data(num_words=10000)"
   ]
  },
  {
   "cell_type": "code",
   "execution_count": 26,
   "id": "3fa2819d",
   "metadata": {},
   "outputs": [
    {
     "data": {
      "text/plain": [
       "array([list([1, 2, 2, 8, 43, 10, 447, 5, 25, 207, 270, 5, 3095, 111, 16, 369, 186, 90, 67, 7, 89, 5, 19, 102, 6, 19, 124, 15, 90, 67, 84, 22, 482, 26, 7, 48, 4, 49, 8, 864, 39, 209, 154, 6, 151, 6, 83, 11, 15, 22, 155, 11, 15, 7, 48, 9, 4579, 1005, 504, 6, 258, 6, 272, 11, 15, 22, 134, 44, 11, 15, 16, 8, 197, 1245, 90, 67, 52, 29, 209, 30, 32, 132, 6, 109, 15, 17, 12]),\n",
       "       list([1, 3267, 699, 3434, 2295, 56, 2, 7511, 9, 56, 3906, 1073, 81, 5, 1198, 57, 366, 737, 132, 20, 4093, 7, 2, 49, 2295, 2, 1037, 3267, 699, 3434, 8, 7, 10, 241, 16, 855, 129, 231, 783, 5, 4, 587, 2295, 2, 2, 775, 7, 48, 34, 191, 44, 35, 1795, 505, 17, 12]),\n",
       "       list([1, 53, 12, 284, 15, 14, 272, 26, 53, 959, 32, 818, 15, 14, 272, 26, 39, 684, 70, 11, 14, 12, 3886, 18, 180, 183, 187, 70, 11, 14, 102, 32, 11, 29, 53, 44, 704, 15, 14, 19, 758, 15, 53, 959, 47, 1013, 15, 14, 19, 132, 15, 39, 965, 32, 11, 14, 147, 72, 11, 180, 183, 187, 44, 11, 14, 102, 19, 11, 123, 186, 90, 67, 960, 4, 78, 13, 68, 467, 511, 110, 59, 89, 90, 67, 1390, 55, 2678, 92, 617, 80, 1274, 46, 905, 220, 13, 4, 346, 48, 235, 629, 5, 211, 5, 1118, 7, 2, 81, 5, 187, 11, 15, 9, 1709, 201, 5, 47, 3615, 18, 478, 4514, 5, 1118, 7, 232, 2, 71, 5, 160, 63, 11, 9, 2, 81, 5, 102, 59, 11, 17, 12]),\n",
       "       ...,\n",
       "       list([1, 141, 3890, 387, 81, 8, 16, 1629, 10, 340, 1241, 850, 31, 56, 3890, 691, 9, 1241, 71, 9, 5985, 2, 2, 699, 2, 2, 2, 699, 244, 5945, 4, 49, 8, 4, 656, 850, 33, 2993, 9, 2139, 340, 3371, 1493, 9, 2, 22, 2, 1094, 687, 83, 35, 15, 257, 6, 57, 9190, 7, 4, 5956, 654, 5, 2, 6191, 1371, 4, 49, 8, 16, 369, 646, 6, 1076, 7, 124, 407, 17, 12]),\n",
       "       list([1, 53, 46, 957, 26, 14, 74, 132, 26, 39, 46, 258, 3614, 18, 14, 74, 134, 5131, 18, 88, 2321, 72, 11, 14, 1842, 32, 11, 123, 383, 89, 39, 46, 235, 10, 864, 728, 5, 258, 44, 11, 15, 22, 753, 9, 42, 92, 131, 728, 5, 69, 312, 11, 15, 22, 222, 2, 3237, 383, 48, 39, 74, 235, 10, 864, 276, 5, 61, 32, 11, 15, 21, 4, 211, 5, 126, 1072, 42, 92, 131, 46, 19, 352, 11, 15, 22, 710, 220, 9, 42, 92, 131, 276, 5, 59, 61, 11, 15, 22, 10, 455, 7, 1172, 137, 336, 1325, 6, 1532, 142, 971, 6463, 43, 359, 5, 4, 326, 753, 364, 17, 12]),\n",
       "       list([1, 227, 2406, 91, 2, 125, 2855, 21, 4, 3976, 76, 7, 4, 757, 481, 3976, 790, 5259, 5654, 9, 111, 149, 8, 7, 10, 76, 223, 51, 4, 417, 8, 1047, 91, 6917, 1688, 340, 7, 194, 9411, 6, 1894, 21, 127, 2151, 2394, 1456, 6, 3034, 4, 329, 433, 7, 65, 87, 1127, 10, 8219, 1475, 290, 9, 21, 567, 16, 1926, 24, 4, 76, 209, 30, 4033, 6655, 5654, 8, 4, 60, 8, 4, 966, 308, 40, 2575, 129, 2, 295, 277, 1071, 9, 24, 286, 2114, 234, 222, 9, 4, 906, 3994, 8519, 114, 5758, 1752, 7, 4, 113, 17, 12])],\n",
       "      dtype=object)"
      ]
     },
     "execution_count": 26,
     "metadata": {},
     "output_type": "execute_result"
    }
   ],
   "source": [
    "train_data"
   ]
  },
  {
   "cell_type": "code",
   "execution_count": 27,
   "id": "146b0335",
   "metadata": {},
   "outputs": [
    {
     "data": {
      "text/plain": [
       "array([ 3,  4,  3, ..., 25,  3, 25], dtype=int64)"
      ]
     },
     "execution_count": 27,
     "metadata": {},
     "output_type": "execute_result"
    }
   ],
   "source": [
    "train_labels"
   ]
  },
  {
   "cell_type": "code",
   "execution_count": 28,
   "id": "6bfa5f0e",
   "metadata": {},
   "outputs": [
    {
     "data": {
      "text/plain": [
       "array([list([1, 4, 1378, 2025, 9, 697, 4622, 111, 8, 25, 109, 29, 3650, 11, 150, 244, 364, 33, 30, 30, 1398, 333, 6, 2, 159, 9, 1084, 363, 13, 2, 71, 9, 2, 71, 117, 4, 225, 78, 206, 10, 9, 1214, 8, 4, 270, 5, 2, 7, 748, 48, 9, 2, 7, 207, 1451, 966, 1864, 793, 97, 133, 336, 7, 4, 493, 98, 273, 104, 284, 25, 39, 338, 22, 905, 220, 3465, 644, 59, 20, 6, 119, 61, 11, 15, 58, 579, 26, 10, 67, 7, 4, 738, 98, 43, 88, 333, 722, 12, 20, 6, 19, 746, 35, 15, 10, 9, 1214, 855, 129, 783, 21, 4, 2280, 244, 364, 51, 16, 299, 452, 16, 515, 4, 99, 29, 5, 4, 364, 281, 48, 10, 9, 1214, 23, 644, 47, 20, 324, 27, 56, 2, 2, 5, 192, 510, 17, 12]),\n",
       "       list([1, 2768, 283, 122, 7, 4, 89, 544, 463, 29, 798, 748, 40, 85, 306, 28, 19, 59, 11, 82, 84, 22, 10, 1315, 19, 12, 11, 82, 52, 29, 283, 1135, 558, 2, 265, 2, 6607, 8, 6607, 118, 371, 10, 1503, 281, 4, 143, 4811, 760, 50, 2088, 225, 139, 683, 4, 48, 193, 862, 41, 967, 1999, 30, 1086, 36, 8, 28, 602, 19, 32, 11, 82, 5, 4, 89, 544, 463, 41, 30, 6273, 13, 260, 951, 6607, 8, 69, 1749, 18, 82, 41, 30, 306, 3342, 13, 4, 37, 38, 283, 555, 649, 18, 82, 13, 1721, 282, 9, 132, 18, 82, 41, 30, 385, 21, 4, 169, 76, 36, 8, 107, 4, 106, 524, 10, 295, 3825, 2, 2476, 6, 3684, 6940, 4, 1126, 41, 263, 84, 395, 649, 18, 82, 838, 1317, 4, 572, 4, 106, 13, 25, 595, 2445, 40, 85, 7369, 518, 5, 4, 1126, 51, 115, 680, 16, 6, 719, 250, 27, 429, 6607, 8, 6940, 114, 343, 84, 142, 20, 5, 1145, 1538, 4, 65, 494, 474, 27, 69, 445, 11, 1816, 6607, 8, 109, 181, 2768, 2, 62, 1810, 6, 624, 901, 6940, 107, 4, 1126, 34, 524, 4, 6940, 1126, 41, 447, 7, 1427, 13, 69, 251, 18, 872, 876, 1539, 468, 9063, 242, 5, 646, 27, 1888, 169, 283, 87, 9, 10, 2, 260, 182, 122, 678, 306, 13, 4, 99, 216, 7, 89, 544, 64, 85, 2333, 6, 195, 7254, 6337, 268, 609, 4, 195, 41, 1017, 2765, 2, 4, 73, 706, 2, 92, 4, 91, 3917, 36, 8, 51, 144, 23, 1858, 129, 564, 13, 269, 678, 115, 55, 866, 189, 814, 604, 838, 117, 380, 595, 951, 320, 4, 398, 57, 2233, 7411, 269, 274, 87, 6607, 8, 787, 283, 34, 596, 661, 5467, 13, 2362, 1816, 90, 2, 84, 22, 2202, 1816, 54, 748, 6607, 8, 87, 62, 6154, 84, 161, 5, 1208, 480, 4, 2, 416, 6, 538, 122, 115, 55, 129, 1104, 1445, 345, 389, 31, 4, 169, 76, 36, 8, 787, 398, 7, 4, 2, 1507, 64, 8862, 22, 125, 2, 9, 2876, 172, 399, 9, 2, 5206, 9, 2, 122, 36, 8, 6642, 172, 247, 100, 97, 6940, 34, 75, 477, 541, 4, 283, 182, 4, 2, 295, 301, 2, 125, 2, 6607, 8, 77, 57, 445, 283, 1998, 217, 31, 380, 704, 51, 77, 2, 509, 5, 476, 9, 2876, 122, 115, 853, 6, 1061, 52, 10, 2, 2, 1308, 5, 4, 283, 182, 36, 8, 5296, 114, 30, 531, 6, 6376, 9, 2470, 529, 13, 2, 2, 58, 529, 7, 2148, 2, 185, 1028, 240, 5296, 1028, 949, 657, 57, 6, 1046, 283, 36, 8, 6607, 8, 4, 2217, 34, 9177, 13, 10, 4910, 5, 4, 141, 283, 120, 50, 2877, 7, 1049, 43, 10, 181, 283, 734, 115, 55, 3356, 476, 6, 2195, 10, 73, 120, 50, 41, 6877, 169, 87, 6607, 8, 107, 144, 23, 129, 120, 169, 87, 33, 2409, 30, 1888, 1171, 161, 4, 294, 517, 23, 2, 25, 398, 9, 2060, 283, 21, 4, 236, 36, 8, 143, 169, 87, 641, 1569, 28, 69, 61, 376, 514, 90, 1249, 62, 2, 13, 4, 2217, 696, 122, 404, 2936, 22, 134, 6, 187, 514, 10, 1249, 107, 4, 96, 1043, 1569, 13, 10, 184, 28, 61, 376, 514, 268, 680, 4, 320, 6, 154, 6, 69, 160, 514, 10, 1249, 27, 4, 153, 5, 52, 29, 36, 8, 6607, 8, 612, 408, 10, 3133, 283, 76, 27, 1504, 31, 169, 951, 2, 122, 36, 8, 283, 236, 62, 641, 84, 618, 2, 22, 8417, 8409, 9, 274, 7322, 399, 7587, 51, 115, 55, 45, 4044, 31, 4, 490, 558, 36, 8, 224, 2, 115, 57, 85, 1655, 2671, 5, 283, 6, 4, 37, 38, 7, 1797, 185, 77, 4446, 4, 555, 298, 77, 240, 2, 7, 327, 652, 194, 8773, 6233, 34, 2, 5463, 4884, 1297, 6, 240, 260, 458, 87, 6, 134, 514, 10, 1249, 22, 196, 514, 4, 37, 38, 309, 213, 54, 207, 8577, 25, 134, 139, 89, 283, 494, 555, 22, 4, 2217, 6, 2172, 4278, 434, 835, 22, 3598, 3746, 434, 835, 7, 48, 6607, 8, 618, 225, 586, 333, 122, 572, 126, 2768, 1998, 62, 133, 6, 2458, 233, 28, 602, 188, 5, 4, 704, 1998, 62, 45, 885, 281, 4, 48, 193, 760, 36, 8, 115, 680, 78, 58, 109, 95, 6, 1732, 1516, 281, 4, 225, 760, 17, 12]),\n",
       "       list([1, 4, 309, 2276, 4759, 5, 2015, 403, 1920, 33, 1575, 1627, 1173, 87, 13, 536, 78, 6490, 399, 7, 2068, 212, 10, 634, 179, 8, 137, 5602, 7, 2775, 33, 30, 1015, 43, 33, 5602, 50, 489, 4, 403, 6, 96, 399, 7, 1953, 3587, 8427, 6603, 4132, 3669, 8180, 7163, 9, 2015, 8, 2, 2, 1683, 791, 5, 740, 220, 707, 13, 4, 634, 634, 54, 1405, 6331, 4, 361, 182, 24, 511, 972, 137, 403, 1920, 529, 6, 96, 3711, 399, 41, 30, 2776, 21, 10, 8491, 2002, 503, 5, 188, 6, 353, 26, 2474, 21, 432, 4, 4234, 23, 3288, 435, 34, 737, 6, 246, 7528, 274, 1173, 1627, 87, 13, 399, 992, 27, 274, 403, 87, 2631, 85, 480, 52, 2015, 403, 820, 13, 10, 139, 9, 115, 949, 609, 890, 819, 6, 812, 593, 7, 576, 7, 194, 2329, 216, 2, 8, 2, 8, 634, 33, 768, 2085, 593, 4, 403, 1920, 185, 9, 107, 403, 87, 2, 107, 1635, 410, 4, 682, 189, 161, 1635, 762, 274, 5319, 115, 30, 43, 389, 410, 4, 682, 107, 1635, 762, 456, 36, 8, 184, 4057, 95, 1854, 107, 403, 87, 302, 2, 8, 129, 100, 756, 7, 3288, 96, 298, 55, 370, 731, 866, 189, 115, 949, 9695, 115, 949, 343, 756, 2, 9, 115, 949, 343, 756, 2509, 36, 8, 17, 12]),\n",
       "       ...,\n",
       "       list([1, 1809, 124, 53, 653, 26, 39, 5439, 18, 14, 5893, 18, 155, 177, 53, 544, 26, 39, 19, 5121, 18, 14, 19, 6382, 18, 280, 3882, 11, 14, 3123, 32, 11, 695, 3614, 47, 11, 14, 3615, 63, 11, 430, 3259, 44, 11, 14, 61, 11, 17, 12]),\n",
       "       list([1, 5586, 2, 71, 8, 23, 166, 344, 10, 78, 13, 68, 80, 467, 606, 6, 261, 5, 146, 93, 124, 4, 166, 75, 3603, 2, 5907, 265, 8692, 1251, 2, 297, 1127, 195, 9, 621, 575, 1080, 5907, 7, 378, 104, 421, 648, 20, 5, 4, 49, 2, 8, 1708, 28, 4, 303, 163, 524, 10, 1220, 6, 455, 4, 326, 685, 6, 2, 422, 71, 142, 73, 863, 62, 75, 3603, 6, 4, 326, 166, 2, 34, 1652, 3603, 6, 4, 166, 4, 49, 8, 17, 12]),\n",
       "       list([1, 706, 209, 658, 4, 37, 38, 309, 484, 4, 1434, 6, 933, 4, 89, 709, 377, 101, 28, 4, 143, 511, 101, 5, 47, 758, 15, 90, 2388, 7, 809, 6, 444, 2035, 4, 911, 5, 709, 198, 1997, 634, 3644, 3798, 2305, 8, 1486, 6, 674, 480, 10, 990, 309, 4008, 2190, 2305, 1849, 24, 68, 583, 242, 5, 4, 143, 709, 364, 7376, 41, 30, 13, 706, 6, 837, 4, 377, 101, 6, 631, 28, 47, 758, 15, 36, 1413, 107, 4, 377, 101, 62, 47, 758, 15, 634, 114, 713, 888, 1412, 6, 343, 37, 38, 1116, 95, 1136, 269, 43, 1488, 1170, 6, 226, 2, 4, 377, 101, 136, 143, 1032, 4, 89, 709, 377, 101, 1217, 30, 478, 97, 47, 948, 15, 90, 4594, 2, 5853, 41, 30, 13, 706, 6, 455, 4, 465, 474, 6, 837, 634, 6, 2069, 4, 709, 377, 101, 28, 47, 758, 15, 7, 463, 29, 89, 1017, 97, 148, 16, 6, 47, 948, 15, 4, 48, 511, 377, 101, 23, 47, 758, 15, 161, 5, 4, 47, 12, 20, 7424, 7978, 386, 240, 2305, 2634, 24, 10, 181, 1475, 7, 194, 534, 21, 709, 364, 756, 33, 30, 4, 386, 404, 36, 118, 4, 2190, 24, 4, 911, 7, 1116, 23, 24, 4, 37, 38, 377, 101, 1976, 42, 9964, 6, 127, 122, 9, 7609, 1136, 692, 13, 37, 38, 1116, 446, 69, 4, 234, 709, 7614, 1320, 13, 126, 1006, 5, 338, 458, 2305, 8, 4, 1136, 911, 23, 4, 307, 2016, 36, 8, 634, 23, 325, 2863, 4, 820, 9, 129, 2767, 40, 836, 85, 1523, 17, 12])],\n",
       "      dtype=object)"
      ]
     },
     "execution_count": 28,
     "metadata": {},
     "output_type": "execute_result"
    }
   ],
   "source": [
    "test_data"
   ]
  },
  {
   "cell_type": "code",
   "execution_count": 29,
   "id": "54496c08",
   "metadata": {},
   "outputs": [
    {
     "data": {
      "text/plain": [
       "array([ 3, 10,  1, ...,  3,  3, 24], dtype=int64)"
      ]
     },
     "execution_count": 29,
     "metadata": {},
     "output_type": "execute_result"
    }
   ],
   "source": [
    "test_labels"
   ]
  },
  {
   "cell_type": "code",
   "execution_count": 30,
   "id": "9b363059",
   "metadata": {},
   "outputs": [
    {
     "data": {
      "text/plain": [
       "((8982,), (8982,))"
      ]
     },
     "execution_count": 30,
     "metadata": {},
     "output_type": "execute_result"
    }
   ],
   "source": [
    "train_data.shape, train_labels.shape"
   ]
  },
  {
   "cell_type": "code",
   "execution_count": 31,
   "id": "48c7d71b",
   "metadata": {},
   "outputs": [
    {
     "data": {
      "text/plain": [
       "8982"
      ]
     },
     "execution_count": 31,
     "metadata": {},
     "output_type": "execute_result"
    }
   ],
   "source": [
    "len(train_data)"
   ]
  },
  {
   "cell_type": "code",
   "execution_count": 32,
   "id": "5a92b4b6",
   "metadata": {},
   "outputs": [
    {
     "data": {
      "text/plain": [
       "2246"
      ]
     },
     "execution_count": 32,
     "metadata": {},
     "output_type": "execute_result"
    }
   ],
   "source": [
    "len(test_data)"
   ]
  },
  {
   "cell_type": "code",
   "execution_count": 33,
   "id": "437d8da8",
   "metadata": {},
   "outputs": [
    {
     "data": {
      "text/html": [
       "<div>\n",
       "<style scoped>\n",
       "    .dataframe tbody tr th:only-of-type {\n",
       "        vertical-align: middle;\n",
       "    }\n",
       "\n",
       "    .dataframe tbody tr th {\n",
       "        vertical-align: top;\n",
       "    }\n",
       "\n",
       "    .dataframe thead th {\n",
       "        text-align: right;\n",
       "    }\n",
       "</style>\n",
       "<table border=\"1\" class=\"dataframe\">\n",
       "  <thead>\n",
       "    <tr style=\"text-align: right;\">\n",
       "      <th></th>\n",
       "      <th>train_data</th>\n",
       "      <th>train_labels</th>\n",
       "    </tr>\n",
       "  </thead>\n",
       "  <tbody>\n",
       "    <tr>\n",
       "      <th>0</th>\n",
       "      <td>[1, 2, 2, 8, 43, 10, 447, 5, 25, 207, 270, 5, ...</td>\n",
       "      <td>3</td>\n",
       "    </tr>\n",
       "    <tr>\n",
       "      <th>1</th>\n",
       "      <td>[1, 3267, 699, 3434, 2295, 56, 2, 7511, 9, 56,...</td>\n",
       "      <td>4</td>\n",
       "    </tr>\n",
       "    <tr>\n",
       "      <th>2</th>\n",
       "      <td>[1, 53, 12, 284, 15, 14, 272, 26, 53, 959, 32,...</td>\n",
       "      <td>3</td>\n",
       "    </tr>\n",
       "    <tr>\n",
       "      <th>3</th>\n",
       "      <td>[1, 4, 686, 867, 558, 4, 37, 38, 309, 2276, 46...</td>\n",
       "      <td>4</td>\n",
       "    </tr>\n",
       "    <tr>\n",
       "      <th>4</th>\n",
       "      <td>[1, 8295, 111, 8, 25, 166, 40, 638, 10, 436, 2...</td>\n",
       "      <td>4</td>\n",
       "    </tr>\n",
       "    <tr>\n",
       "      <th>...</th>\n",
       "      <td>...</td>\n",
       "      <td>...</td>\n",
       "    </tr>\n",
       "    <tr>\n",
       "      <th>8977</th>\n",
       "      <td>[1, 313, 262, 2529, 1426, 8, 130, 40, 129, 363...</td>\n",
       "      <td>19</td>\n",
       "    </tr>\n",
       "    <tr>\n",
       "      <th>8978</th>\n",
       "      <td>[1, 4, 96, 5, 340, 3976, 23, 328, 6, 154, 7, 4...</td>\n",
       "      <td>19</td>\n",
       "    </tr>\n",
       "    <tr>\n",
       "      <th>8979</th>\n",
       "      <td>[1, 141, 3890, 387, 81, 8, 16, 1629, 10, 340, ...</td>\n",
       "      <td>25</td>\n",
       "    </tr>\n",
       "    <tr>\n",
       "      <th>8980</th>\n",
       "      <td>[1, 53, 46, 957, 26, 14, 74, 132, 26, 39, 46, ...</td>\n",
       "      <td>3</td>\n",
       "    </tr>\n",
       "    <tr>\n",
       "      <th>8981</th>\n",
       "      <td>[1, 227, 2406, 91, 2, 125, 2855, 21, 4, 3976, ...</td>\n",
       "      <td>25</td>\n",
       "    </tr>\n",
       "  </tbody>\n",
       "</table>\n",
       "<p>8982 rows × 2 columns</p>\n",
       "</div>"
      ],
      "text/plain": [
       "                                             train_data  train_labels\n",
       "0     [1, 2, 2, 8, 43, 10, 447, 5, 25, 207, 270, 5, ...             3\n",
       "1     [1, 3267, 699, 3434, 2295, 56, 2, 7511, 9, 56,...             4\n",
       "2     [1, 53, 12, 284, 15, 14, 272, 26, 53, 959, 32,...             3\n",
       "3     [1, 4, 686, 867, 558, 4, 37, 38, 309, 2276, 46...             4\n",
       "4     [1, 8295, 111, 8, 25, 166, 40, 638, 10, 436, 2...             4\n",
       "...                                                 ...           ...\n",
       "8977  [1, 313, 262, 2529, 1426, 8, 130, 40, 129, 363...            19\n",
       "8978  [1, 4, 96, 5, 340, 3976, 23, 328, 6, 154, 7, 4...            19\n",
       "8979  [1, 141, 3890, 387, 81, 8, 16, 1629, 10, 340, ...            25\n",
       "8980  [1, 53, 46, 957, 26, 14, 74, 132, 26, 39, 46, ...             3\n",
       "8981  [1, 227, 2406, 91, 2, 125, 2855, 21, 4, 3976, ...            25\n",
       "\n",
       "[8982 rows x 2 columns]"
      ]
     },
     "execution_count": 33,
     "metadata": {},
     "output_type": "execute_result"
    }
   ],
   "source": [
    "import pandas as pd\n",
    "import tensorflow.keras\n",
    "\n",
    "train_data_df = pd.DataFrame(train_data)\n",
    "train_labels_df = pd.DataFrame(train_labels)\n",
    "\n",
    "reuters_df = pd.DataFrame(train_data_df)\n",
    "reuters_df.columns = ['train_data']\n",
    "reuters_df['train_labels'] = train_labels_df\n",
    "reuters_df"
   ]
  },
  {
   "cell_type": "code",
   "execution_count": 34,
   "id": "b052129c",
   "metadata": {},
   "outputs": [
    {
     "data": {
      "text/plain": [
       "(8982, 2)"
      ]
     },
     "execution_count": 34,
     "metadata": {},
     "output_type": "execute_result"
    }
   ],
   "source": [
    "reuters_df.shape"
   ]
  },
  {
   "cell_type": "code",
   "execution_count": 35,
   "id": "3cbcbfcc",
   "metadata": {},
   "outputs": [
    {
     "name": "stdout",
     "output_type": "stream",
     "text": [
      "<class 'pandas.core.frame.DataFrame'>\n",
      "RangeIndex: 8982 entries, 0 to 8981\n",
      "Data columns (total 2 columns):\n",
      " #   Column        Non-Null Count  Dtype \n",
      "---  ------        --------------  ----- \n",
      " 0   train_data    8982 non-null   object\n",
      " 1   train_labels  8982 non-null   int64 \n",
      "dtypes: int64(1), object(1)\n",
      "memory usage: 140.5+ KB\n"
     ]
    }
   ],
   "source": [
    "reuters_df.info()"
   ]
  },
  {
   "cell_type": "code",
   "execution_count": 36,
   "id": "2914863a",
   "metadata": {},
   "outputs": [
    {
     "data": {
      "text/plain": [
       "train_data      0\n",
       "train_labels    0\n",
       "dtype: int64"
      ]
     },
     "execution_count": 36,
     "metadata": {},
     "output_type": "execute_result"
    }
   ],
   "source": [
    "reuters_df.isnull().sum()"
   ]
  },
  {
   "cell_type": "code",
   "execution_count": 37,
   "id": "6cc2cc3a",
   "metadata": {},
   "outputs": [
    {
     "data": {
      "text/plain": [
       "0       [1, 2, 2, 8, 43, 10, 447, 5, 25, 207, 270, 5, ...\n",
       "1       [1, 3267, 699, 3434, 2295, 56, 2, 7511, 9, 56,...\n",
       "2       [1, 53, 12, 284, 15, 14, 272, 26, 53, 959, 32,...\n",
       "3       [1, 4, 686, 867, 558, 4, 37, 38, 309, 2276, 46...\n",
       "4       [1, 8295, 111, 8, 25, 166, 40, 638, 10, 436, 2...\n",
       "                              ...                        \n",
       "8977    [1, 313, 262, 2529, 1426, 8, 130, 40, 129, 363...\n",
       "8978    [1, 4, 96, 5, 340, 3976, 23, 328, 6, 154, 7, 4...\n",
       "8979    [1, 141, 3890, 387, 81, 8, 16, 1629, 10, 340, ...\n",
       "8980    [1, 53, 46, 957, 26, 14, 74, 132, 26, 39, 46, ...\n",
       "8981    [1, 227, 2406, 91, 2, 125, 2855, 21, 4, 3976, ...\n",
       "Name: train_data, Length: 8982, dtype: object"
      ]
     },
     "execution_count": 37,
     "metadata": {},
     "output_type": "execute_result"
    }
   ],
   "source": [
    "reuters_df.iloc[:,0]    # 모든 행의 0번째 열"
   ]
  },
  {
   "cell_type": "code",
   "execution_count": 38,
   "id": "5717dab6",
   "metadata": {},
   "outputs": [
    {
     "data": {
      "text/plain": [
       "0       [1, 2, 2, 8, 43, 10, 447, 5, 25, 207, 270, 5, ...\n",
       "1       [1, 3267, 699, 3434, 2295, 56, 2, 7511, 9, 56,...\n",
       "2       [1, 53, 12, 284, 15, 14, 272, 26, 53, 959, 32,...\n",
       "3       [1, 4, 686, 867, 558, 4, 37, 38, 309, 2276, 46...\n",
       "4       [1, 8295, 111, 8, 25, 166, 40, 638, 10, 436, 2...\n",
       "                              ...                        \n",
       "8977    [1, 313, 262, 2529, 1426, 8, 130, 40, 129, 363...\n",
       "8978    [1, 4, 96, 5, 340, 3976, 23, 328, 6, 154, 7, 4...\n",
       "8979    [1, 141, 3890, 387, 81, 8, 16, 1629, 10, 340, ...\n",
       "8980    [1, 53, 46, 957, 26, 14, 74, 132, 26, 39, 46, ...\n",
       "8981    [1, 227, 2406, 91, 2, 125, 2855, 21, 4, 3976, ...\n",
       "Name: train_data, Length: 8982, dtype: object"
      ]
     },
     "execution_count": 38,
     "metadata": {},
     "output_type": "execute_result"
    }
   ],
   "source": [
    "reuters_df.loc[:]['train_data']    # 모든 행의 train_data"
   ]
  },
  {
   "cell_type": "code",
   "execution_count": 39,
   "id": "d20a9ece",
   "metadata": {},
   "outputs": [
    {
     "data": {
      "text/plain": [
       "9999"
      ]
     },
     "execution_count": 39,
     "metadata": {},
     "output_type": "execute_result"
    }
   ],
   "source": [
    "max([max(sequence) for sequence in train_data])"
   ]
  },
  {
   "cell_type": "code",
   "execution_count": 40,
   "id": "20cae6e1",
   "metadata": {},
   "outputs": [],
   "source": [
    "# 단어 바꾸기\n",
    "word_index = reuters.get_word_index()\n",
    "reverse_word_index = dict([(value, key) for (key, value) in word_index.items()])"
   ]
  },
  {
   "cell_type": "code",
   "execution_count": 41,
   "id": "d9ad358f",
   "metadata": {},
   "outputs": [],
   "source": [
    "decoded_newswire = ' '.join([reverse_word_index.get(i - 3, '7') for i in train_data[0]])"
   ]
  },
  {
   "cell_type": "code",
   "execution_count": 42,
   "id": "0e4642d3",
   "metadata": {},
   "outputs": [
    {
     "data": {
      "text/plain": [
       "'7 7 7 said as a result of its december acquisition of space co it expects earnings per share in 1987 of 1 15 to 1 30 dlrs per share up from 70 cts in 1986 the company said pretax net should rise to nine to 10 mln dlrs from six mln dlrs in 1986 and rental operation revenues to 19 to 22 mln dlrs from 12 5 mln dlrs it said cash flow per share this year should be 2 50 to three dlrs reuter 3'"
      ]
     },
     "execution_count": 42,
     "metadata": {},
     "output_type": "execute_result"
    }
   ],
   "source": [
    "decoded_newswire"
   ]
  },
  {
   "cell_type": "markdown",
   "id": "22f94f60",
   "metadata": {},
   "source": [
    "# 2. 데이터 준비"
   ]
  },
  {
   "cell_type": "code",
   "execution_count": 43,
   "id": "d706fb2e",
   "metadata": {},
   "outputs": [],
   "source": [
    "import numpy as np\n",
    "\n",
    "def vectorize_sequences(sequences, dimension=10000):    # 단어 10000개로 제한\n",
    "    results = np.zeros((len(sequences), dimension))\n",
    "    for i, sequence in enumerate(sequences):\n",
    "        results[i, sequence] = 1.\n",
    "    return results\n",
    "\n",
    "x_train = vectorize_sequences(train_data)\n",
    "x_test = vectorize_sequences(test_data)"
   ]
  },
  {
   "cell_type": "code",
   "execution_count": 44,
   "id": "4c79c6ef",
   "metadata": {},
   "outputs": [],
   "source": [
    "def to_one_hot(labels, dimension=46):    # 0 ~ 45를 펼쳐서 원-핫 벡터를 만들기 위해 46지정\n",
    "    results = np.zeros((len(labels), dimension))\n",
    "    for i, label in enumerate(labels):\n",
    "        results[i, label] = 1.\n",
    "    return results\n",
    "\n",
    "one_hot_train_labels = to_one_hot(train_labels)\n",
    "one_hot_test_labels = to_one_hot(test_labels)"
   ]
  },
  {
   "cell_type": "code",
   "execution_count": 49,
   "id": "67d631be",
   "metadata": {},
   "outputs": [],
   "source": [
    "# 위와 함수 to_on_hot과 동일한 결과\n",
    "from keras.utils.np_utils import to_categorical    # 무슨 원리인지는 모르겠는데 여기서는 tensorflow빼줘야 돌아간다\n",
    "\n",
    "one_hot_train_labels = to_categorical(train_labels)\n",
    "one_hot_test_labels = to_categorical(test_labels)"
   ]
  },
  {
   "cell_type": "markdown",
   "id": "5b60e226",
   "metadata": {},
   "source": [
    "# 3. 모델 구성"
   ]
  },
  {
   "cell_type": "code",
   "execution_count": 54,
   "id": "51e9386f",
   "metadata": {},
   "outputs": [],
   "source": [
    "from tensorflow.keras import models, layers\n",
    "\n",
    "model = models.Sequential()\n",
    "model.add(layers.Dense(64, activation='relu', input_shape=(10000,)))\n",
    "model.add(layers.Dense(64, activation='relu'))\n",
    "model.add(layers.Dense(46, activation='softmax'))"
   ]
  },
  {
   "cell_type": "code",
   "execution_count": 68,
   "id": "3f227674",
   "metadata": {},
   "outputs": [],
   "source": [
    "# categorical로 하면 원-핫벡터값을 반드시 넣어줘야 된다\n",
    "model.compile(optimizer='rmsprop', loss='categorical_crossentropy', metrics=['accuracy'])\n",
    "\n",
    "# sparse는 일반 데이터로 하므로 sparse로 하면 밑에거 돌리면 안된다\n",
    "#model.compile(optimizer='rmsprop', loss='sparse_categorical_crossentropy', metrics=['accuracy'])"
   ]
  },
  {
   "cell_type": "code",
   "execution_count": 69,
   "id": "af6c5606",
   "metadata": {},
   "outputs": [],
   "source": [
    "# categorical_crossentropy\n",
    "x_val = x_train[:1000].astype(float)    # 성능만 잘나오면 숫자가 뭐가 되든 상관없다\n",
    "partial_x_train = x_train[1000:].astype(float)\n",
    "\n",
    "y_val = one_hot_train_labels[:1000].astype(float)\n",
    "partial_y_train = one_hot_train_labels[1000:].astype(float)"
   ]
  },
  {
   "cell_type": "code",
   "execution_count": 61,
   "id": "13965c1c",
   "metadata": {},
   "outputs": [],
   "source": [
    "# sparse_categorical_crossentropy\n",
    "x_val = x_train[:1000].astype(float)    # 성능만 잘나오면 숫자가 뭐가 되든 상관없다\n",
    "partial_x_train = x_train[1000:].astype(float)\n",
    "\n",
    "y_val = train_labels[:1000].astype(float)\n",
    "partial_y_train = train_labels[1000:].astype(float)"
   ]
  },
  {
   "cell_type": "code",
   "execution_count": 70,
   "id": "93203748",
   "metadata": {},
   "outputs": [
    {
     "name": "stdout",
     "output_type": "stream",
     "text": [
      "Epoch 1/20\n",
      "16/16 [==============================] - 2s 58ms/step - loss: 0.1135 - accuracy: 0.9588 - val_loss: 1.2758 - val_accuracy: 0.7920\n",
      "Epoch 2/20\n",
      "16/16 [==============================] - 1s 35ms/step - loss: 0.0885 - accuracy: 0.9583 - val_loss: 1.3368 - val_accuracy: 0.7890\n",
      "Epoch 3/20\n",
      "16/16 [==============================] - 1s 34ms/step - loss: 0.0835 - accuracy: 0.9588 - val_loss: 1.3088 - val_accuracy: 0.7990\n",
      "Epoch 4/20\n",
      "16/16 [==============================] - 1s 35ms/step - loss: 0.0848 - accuracy: 0.9584 - val_loss: 1.3526 - val_accuracy: 0.7870\n",
      "Epoch 5/20\n",
      "16/16 [==============================] - 1s 36ms/step - loss: 0.0846 - accuracy: 0.9584 - val_loss: 1.3666 - val_accuracy: 0.7950\n",
      "Epoch 6/20\n",
      "16/16 [==============================] - 1s 33ms/step - loss: 0.0832 - accuracy: 0.9600 - val_loss: 1.3343 - val_accuracy: 0.7920\n",
      "Epoch 7/20\n",
      "16/16 [==============================] - 1s 33ms/step - loss: 0.0840 - accuracy: 0.9580 - val_loss: 1.3469 - val_accuracy: 0.7990\n",
      "Epoch 8/20\n",
      "16/16 [==============================] - 1s 34ms/step - loss: 0.0822 - accuracy: 0.9569 - val_loss: 1.4848 - val_accuracy: 0.7830\n",
      "Epoch 9/20\n",
      "16/16 [==============================] - 1s 34ms/step - loss: 0.0826 - accuracy: 0.9605 - val_loss: 1.3735 - val_accuracy: 0.8000\n",
      "Epoch 10/20\n",
      "16/16 [==============================] - 1s 33ms/step - loss: 0.0808 - accuracy: 0.9582 - val_loss: 1.4434 - val_accuracy: 0.7820\n",
      "Epoch 11/20\n",
      "16/16 [==============================] - 1s 33ms/step - loss: 0.0790 - accuracy: 0.9598 - val_loss: 1.5324 - val_accuracy: 0.7730\n",
      "Epoch 12/20\n",
      "16/16 [==============================] - 1s 36ms/step - loss: 0.0817 - accuracy: 0.9592 - val_loss: 1.3703 - val_accuracy: 0.7860\n",
      "Epoch 13/20\n",
      "16/16 [==============================] - 1s 37ms/step - loss: 0.0774 - accuracy: 0.9599 - val_loss: 1.4380 - val_accuracy: 0.7840\n",
      "Epoch 14/20\n",
      "16/16 [==============================] - 1s 37ms/step - loss: 0.0796 - accuracy: 0.9594 - val_loss: 1.4173 - val_accuracy: 0.7950\n",
      "Epoch 15/20\n",
      "16/16 [==============================] - 1s 38ms/step - loss: 0.0809 - accuracy: 0.9587 - val_loss: 1.4585 - val_accuracy: 0.7810\n",
      "Epoch 16/20\n",
      "16/16 [==============================] - 1s 38ms/step - loss: 0.0764 - accuracy: 0.9595 - val_loss: 1.4026 - val_accuracy: 0.8000\n",
      "Epoch 17/20\n",
      "16/16 [==============================] - 1s 37ms/step - loss: 0.0774 - accuracy: 0.9573 - val_loss: 1.5004 - val_accuracy: 0.7780\n",
      "Epoch 18/20\n",
      "16/16 [==============================] - 1s 37ms/step - loss: 0.0784 - accuracy: 0.9575 - val_loss: 1.4674 - val_accuracy: 0.7830\n",
      "Epoch 19/20\n",
      "16/16 [==============================] - 1s 36ms/step - loss: 0.0759 - accuracy: 0.9588 - val_loss: 1.4856 - val_accuracy: 0.7840\n",
      "Epoch 20/20\n",
      "16/16 [==============================] - 1s 35ms/step - loss: 0.0762 - accuracy: 0.9579 - val_loss: 1.4897 - val_accuracy: 0.7860\n"
     ]
    }
   ],
   "source": [
    "# batch_size는 CPU 성능에 따라 다른데, 보통 512로 해보고 잘 안되면 낮추는 식으로 하면 된다\n",
    "history = model.fit(partial_x_train, partial_y_train, epochs=20, batch_size=512, validation_data=(x_val, y_val))"
   ]
  },
  {
   "cell_type": "code",
   "execution_count": 71,
   "id": "01d5fd6e",
   "metadata": {},
   "outputs": [],
   "source": [
    "# 손실과 정확도 곡선\n",
    "import matplotlib.pyplot as plt"
   ]
  },
  {
   "cell_type": "code",
   "execution_count": 72,
   "id": "a91c65ac",
   "metadata": {},
   "outputs": [
    {
     "data": {
      "image/png": "[encoded data removed]",
      "text/plain": [
       "<Figure size 432x288 with 1 Axes>"
      ]
     },
     "metadata": {
      "needs_background": "light"
     },
     "output_type": "display_data"
    }
   ],
   "source": [
    "loss = history.history['loss']\n",
    "val_loss = history.history['val_loss']\n",
    "\n",
    "epochs = range(1, len(loss)+1)\n",
    "\n",
    "plt.plot(epochs, loss, 'bo', label='Traning loss')\n",
    "plt.plot(epochs, val_loss, 'b', label='Validation loss')\n",
    "plt.title('Traning and validation accuracy')\n",
    "plt.xlabel('Epochs')\n",
    "plt.ylabel('Loss')\n",
    "plt.legend()\n",
    "\n",
    "plt.show()"
   ]
  },
  {
   "cell_type": "markdown",
   "id": "fa59e5ed",
   "metadata": {},
   "source": [
    "# 4. 새로운 데이터에 대해 예측하기"
   ]
  },
  {
   "cell_type": "code",
   "execution_count": 73,
   "id": "269532e4",
   "metadata": {},
   "outputs": [],
   "source": [
    "predictions = model.predict(x_test)"
   ]
  },
  {
   "cell_type": "code",
   "execution_count": 74,
   "id": "37fbcb4b",
   "metadata": {},
   "outputs": [
    {
     "data": {
      "text/plain": [
       "array([[1.2544432e-06, 3.4546144e-07, 1.8899753e-10, ..., 7.0801177e-13,\n",
       "        1.5661988e-18, 1.0644589e-11],\n",
       "       [1.0683508e-05, 6.8532860e-01, 1.2751316e-05, ..., 1.7589185e-12,\n",
       "        7.1714971e-18, 1.8171762e-13],\n",
       "       [1.8106238e-03, 2.5749114e-01, 1.2604368e-03, ..., 3.3198393e-07,\n",
       "        7.5226110e-09, 2.1388389e-05],\n",
       "       ...,\n",
       "       [5.0275855e-08, 1.4859618e-06, 4.1391895e-10, ..., 3.5901280e-12,\n",
       "        8.2187726e-17, 3.3324851e-10],\n",
       "       [8.6941919e-04, 3.0270027e-02, 2.9728051e-05, ..., 4.4245817e-07,\n",
       "        1.0552325e-11, 3.2717918e-07],\n",
       "       [2.6283667e-05, 8.6962104e-01, 1.6560696e-06, ..., 8.0257523e-11,\n",
       "        9.6066738e-17, 1.5970127e-10]], dtype=float32)"
      ]
     },
     "execution_count": 74,
     "metadata": {},
     "output_type": "execute_result"
    }
   ],
   "source": [
    "predictions"
   ]
  },
  {
   "cell_type": "code",
   "execution_count": 75,
   "id": "f46fa7ef",
   "metadata": {},
   "outputs": [
    {
     "data": {
      "text/plain": [
       "2246"
      ]
     },
     "execution_count": 75,
     "metadata": {},
     "output_type": "execute_result"
    }
   ],
   "source": [
    "len(predictions)"
   ]
  },
  {
   "cell_type": "code",
   "execution_count": 77,
   "id": "434af7b1",
   "metadata": {},
   "outputs": [
    {
     "data": {
      "text/plain": [
       "array([1.2544432e-06, 3.4546144e-07, 1.8899753e-10, 9.9743867e-01,\n",
       "       2.3804107e-03, 1.2184782e-10, 8.1652679e-17, 4.8515070e-11,\n",
       "       2.2765509e-05, 3.3134677e-07, 1.2645779e-07, 3.3808541e-05,\n",
       "       7.4037182e-08, 1.6365019e-06, 9.4398471e-09, 2.0470190e-21,\n",
       "       1.2624056e-05, 3.2516248e-10, 2.2692545e-07, 8.4923202e-05,\n",
       "       9.3845683e-06, 1.2018876e-05, 6.5278898e-12, 1.0993441e-08,\n",
       "       1.4649975e-12, 1.5742874e-08, 2.3564150e-13, 7.9756751e-14,\n",
       "       9.3629069e-08, 7.8448012e-12, 5.9404364e-08, 1.4276589e-15,\n",
       "       1.0987482e-09, 7.7984672e-15, 4.6951509e-08, 5.1487487e-13,\n",
       "       1.2271242e-06, 4.8169879e-10, 1.7942056e-09, 1.6836492e-13,\n",
       "       5.0741345e-11, 4.5905117e-11, 5.6673406e-17, 7.0801177e-13,\n",
       "       1.5661988e-18, 1.0644589e-11], dtype=float32)"
      ]
     },
     "execution_count": 77,
     "metadata": {},
     "output_type": "execute_result"
    }
   ],
   "source": [
    "predictions[0]"
   ]
  },
  {
   "cell_type": "code",
   "execution_count": 78,
   "id": "ecaff70c",
   "metadata": {},
   "outputs": [
    {
     "data": {
      "text/plain": [
       "(46,)"
      ]
     },
     "execution_count": 78,
     "metadata": {},
     "output_type": "execute_result"
    }
   ],
   "source": [
    "predictions[0].shape"
   ]
  },
  {
   "cell_type": "code",
   "execution_count": 79,
   "id": "86f075b2",
   "metadata": {},
   "outputs": [
    {
     "data": {
      "text/plain": [
       "1.0"
      ]
     },
     "execution_count": 79,
     "metadata": {},
     "output_type": "execute_result"
    }
   ],
   "source": [
    "np.sum(predictions[0])    # 1 근처 값이 나와야 한다"
   ]
  },
  {
   "cell_type": "code",
   "execution_count": 80,
   "id": "98ed4c77",
   "metadata": {},
   "outputs": [
    {
     "data": {
      "text/plain": [
       "3"
      ]
     },
     "execution_count": 80,
     "metadata": {},
     "output_type": "execute_result"
    }
   ],
   "source": [
    "np.argmax(predictions[0])"
   ]
  },
  {
   "cell_type": "markdown",
   "id": "188b86a6",
   "metadata": {},
   "source": [
    "# 5. 모델 레이어층 구성시 큰 중간층을 두어야 함"
   ]
  },
  {
   "cell_type": "code",
   "execution_count": 84,
   "id": "6e9b5f5c",
   "metadata": {},
   "outputs": [
    {
     "name": "stdout",
     "output_type": "stream",
     "text": [
      "Epoch 1/20\n",
      "63/63 [==============================] - 2s 23ms/step - loss: 1.7571 - accuracy: 0.6312 - val_loss: 1.1693 - val_accuracy: 0.7320\n",
      "Epoch 2/20\n",
      "63/63 [==============================] - 1s 18ms/step - loss: 0.9141 - accuracy: 0.7985 - val_loss: 0.9559 - val_accuracy: 0.7910\n",
      "Epoch 3/20\n",
      "63/63 [==============================] - 1s 18ms/step - loss: 0.6021 - accuracy: 0.8677 - val_loss: 0.8801 - val_accuracy: 0.8110\n",
      "Epoch 4/20\n",
      "63/63 [==============================] - 1s 18ms/step - loss: 0.4074 - accuracy: 0.9133 - val_loss: 0.9952 - val_accuracy: 0.7880\n",
      "Epoch 5/20\n",
      "63/63 [==============================] - 1s 19ms/step - loss: 0.2923 - accuracy: 0.9335 - val_loss: 0.8612 - val_accuracy: 0.8230\n",
      "Epoch 6/20\n",
      "63/63 [==============================] - 1s 19ms/step - loss: 0.2305 - accuracy: 0.9453 - val_loss: 0.9136 - val_accuracy: 0.8210\n",
      "Epoch 7/20\n",
      "63/63 [==============================] - 1s 19ms/step - loss: 0.1928 - accuracy: 0.9511 - val_loss: 0.9271 - val_accuracy: 0.8120\n",
      "Epoch 8/20\n",
      "63/63 [==============================] - 1s 19ms/step - loss: 0.1674 - accuracy: 0.9529 - val_loss: 0.9746 - val_accuracy: 0.8150\n",
      "Epoch 9/20\n",
      "63/63 [==============================] - 1s 18ms/step - loss: 0.1578 - accuracy: 0.9539 - val_loss: 1.0674 - val_accuracy: 0.7880\n",
      "Epoch 10/20\n",
      "63/63 [==============================] - 1s 19ms/step - loss: 0.1462 - accuracy: 0.9563 - val_loss: 1.0279 - val_accuracy: 0.7990\n",
      "Epoch 11/20\n",
      "63/63 [==============================] - 1s 19ms/step - loss: 0.1377 - accuracy: 0.9550 - val_loss: 1.1648 - val_accuracy: 0.7880\n",
      "Epoch 12/20\n",
      "63/63 [==============================] - 1s 19ms/step - loss: 0.1323 - accuracy: 0.9553 - val_loss: 1.0964 - val_accuracy: 0.8050\n",
      "Epoch 13/20\n",
      "63/63 [==============================] - 1s 18ms/step - loss: 0.1231 - accuracy: 0.9562 - val_loss: 1.1739 - val_accuracy: 0.7940\n",
      "Epoch 14/20\n",
      "63/63 [==============================] - 1s 19ms/step - loss: 0.1219 - accuracy: 0.9562 - val_loss: 1.2186 - val_accuracy: 0.7970\n",
      "Epoch 15/20\n",
      "63/63 [==============================] - 1s 20ms/step - loss: 0.1137 - accuracy: 0.9553 - val_loss: 1.2702 - val_accuracy: 0.7880\n",
      "Epoch 16/20\n",
      "63/63 [==============================] - 1s 20ms/step - loss: 0.1119 - accuracy: 0.9557 - val_loss: 1.0840 - val_accuracy: 0.8060\n",
      "Epoch 17/20\n",
      "63/63 [==============================] - 1s 19ms/step - loss: 0.1047 - accuracy: 0.9579 - val_loss: 1.2428 - val_accuracy: 0.7870\n",
      "Epoch 18/20\n",
      "63/63 [==============================] - 1s 19ms/step - loss: 0.1034 - accuracy: 0.9557 - val_loss: 1.2199 - val_accuracy: 0.8030\n",
      "Epoch 19/20\n",
      "63/63 [==============================] - 1s 20ms/step - loss: 0.0977 - accuracy: 0.9580 - val_loss: 1.3460 - val_accuracy: 0.7800\n",
      "Epoch 20/20\n",
      "63/63 [==============================] - 1s 20ms/step - loss: 0.0982 - accuracy: 0.9572 - val_loss: 1.2888 - val_accuracy: 0.7910\n"
     ]
    },
    {
     "data": {
      "text/plain": [
       "<tensorflow.python.keras.callbacks.History at 0x25e355a0d00>"
      ]
     },
     "execution_count": 84,
     "metadata": {},
     "output_type": "execute_result"
    }
   ],
   "source": [
    "from tensorflow.keras import models, layers\n",
    "\n",
    "model = models.Sequential()\n",
    "model.add(layers.Dense(64, activation='relu', input_shape=(10000,)))\n",
    "model.add(layers.Dense(128, activation='relu'))    # 4, 32, 128로 했을 때 값 비교해보기\n",
    "model.add(layers.Dense(46, activation='softmax'))\n",
    "\n",
    "model.compile(optimizer='rmsprop', loss='categorical_crossentropy', metrics=['accuracy'])\n",
    "\n",
    "model.fit(partial_x_train, partial_y_train, epochs=20, batch_size=128, validation_data=(x_val, y_val))\n",
    "#results = model.evaluate(x_test, y_test)"
   ]
  },
  {
   "cell_type": "code",
   "execution_count": null,
   "id": "c8a897a3",
   "metadata": {},
   "outputs": [],
   "source": []
  }
 ],
 "metadata": {
  "kernelspec": {
   "display_name": "Python 3",
   "language": "python",
   "name": "python3"
  },
  "language_info": {
   "codemirror_mode": {
    "name": "ipython",
    "version": 3
   },
   "file_extension": ".py",
   "mimetype": "text/x-python",
   "name": "python",
   "nbconvert_exporter": "python",
   "pygments_lexer": "ipython3",
   "version": "3.8.8"
  }
 },
 "nbformat": 4,
 "nbformat_minor": 5
}
