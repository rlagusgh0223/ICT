{
 "cells": [
  {
   "cell_type": "markdown",
   "id": "9645c57b",
   "metadata": {},
   "source": [
    "# 퍼셉트론\n",
    "가장 단순한 형태의 신경망이라 히든 레이어 없이 싱글 레이어로만 구성\n",
    "# 경사하강법\n",
    "딥러닝의 뼈대라고 생각해도 된다"
   ]
  }
 ],
 "metadata": {
  "kernelspec": {
   "display_name": "Python 3",
   "language": "python",
   "name": "python3"
  },
  "language_info": {
   "codemirror_mode": {
    "name": "ipython",
    "version": 3
   },
   "file_extension": ".py",
   "mimetype": "text/x-python",
   "name": "python",
   "nbconvert_exporter": "python",
   "pygments_lexer": "ipython3",
   "version": "3.8.8"
  }
 },
 "nbformat": 4,
 "nbformat_minor": 5
}
